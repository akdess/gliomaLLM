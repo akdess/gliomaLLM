{
  "nbformat": 4,
  "nbformat_minor": 0,
  "metadata": {
    "colab": {
      "provenance": [],
      "authorship_tag": "ABX9TyN2iqlFN7KcqJIsDbJhA3pt"
    },
    "kernelspec": {
      "name": "python3",
      "display_name": "Python 3"
    },
    "language_info": {
      "name": "python"
    }
  },
  "cells": [
    {
      "cell_type": "code",
      "execution_count": null,
      "metadata": {
        "colab": {
          "base_uri": "https://localhost:8080/"
        },
        "id": "3BBZChSlIERw",
        "outputId": "0cbef4e4-b57b-4128-da33-fa63d7aa3f08"
      },
      "outputs": [
        {
          "output_type": "stream",
          "name": "stdout",
          "text": [
            "Requirement already satisfied: openai in /usr/local/lib/python3.11/dist-packages (1.81.0)\n",
            "Requirement already satisfied: anyio<5,>=3.5.0 in /usr/local/lib/python3.11/dist-packages (from openai) (4.9.0)\n",
            "Requirement already satisfied: distro<2,>=1.7.0 in /usr/local/lib/python3.11/dist-packages (from openai) (1.9.0)\n",
            "Requirement already satisfied: httpx<1,>=0.23.0 in /usr/local/lib/python3.11/dist-packages (from openai) (0.28.1)\n",
            "Requirement already satisfied: jiter<1,>=0.4.0 in /usr/local/lib/python3.11/dist-packages (from openai) (0.9.0)\n",
            "Requirement already satisfied: pydantic<3,>=1.9.0 in /usr/local/lib/python3.11/dist-packages (from openai) (2.11.4)\n",
            "Requirement already satisfied: sniffio in /usr/local/lib/python3.11/dist-packages (from openai) (1.3.1)\n",
            "Requirement already satisfied: tqdm>4 in /usr/local/lib/python3.11/dist-packages (from openai) (4.67.1)\n",
            "Requirement already satisfied: typing-extensions<5,>=4.11 in /usr/local/lib/python3.11/dist-packages (from openai) (4.13.2)\n",
            "Requirement already satisfied: idna>=2.8 in /usr/local/lib/python3.11/dist-packages (from anyio<5,>=3.5.0->openai) (3.10)\n",
            "Requirement already satisfied: certifi in /usr/local/lib/python3.11/dist-packages (from httpx<1,>=0.23.0->openai) (2025.4.26)\n",
            "Requirement already satisfied: httpcore==1.* in /usr/local/lib/python3.11/dist-packages (from httpx<1,>=0.23.0->openai) (1.0.9)\n",
            "Requirement already satisfied: h11>=0.16 in /usr/local/lib/python3.11/dist-packages (from httpcore==1.*->httpx<1,>=0.23.0->openai) (0.16.0)\n",
            "Requirement already satisfied: annotated-types>=0.6.0 in /usr/local/lib/python3.11/dist-packages (from pydantic<3,>=1.9.0->openai) (0.7.0)\n",
            "Requirement already satisfied: pydantic-core==2.33.2 in /usr/local/lib/python3.11/dist-packages (from pydantic<3,>=1.9.0->openai) (2.33.2)\n",
            "Requirement already satisfied: typing-inspection>=0.4.0 in /usr/local/lib/python3.11/dist-packages (from pydantic<3,>=1.9.0->openai) (0.4.0)\n",
            "Enter your OpenAI API key:··········\n",
            "Enter a brain cell type (e.g., astrocytes): astrocytes\n",
            "\n",
            "ChatGPT-Predicted Markers:\n",
            "\n",
            "| Gene Symbol | Description |\n",
            "|------------|-------------|\n",
            "| GFAP       | Glial Fibrillary Acidic Protein, a well-known marker for mature astrocytes |\n",
            "| S100B      | Calcium-binding protein expressed in astrocytes, commonly used as a marker |\n",
            "| ALDH1L1    | Aldehyde Dehydrogenase 1 Family Member L1, a specific marker for astrocytes |\n",
            "| AQP4       | Aquaporin 4, a water channel protein predominantly expressed in astrocyte end-feet |\n",
            "| GLUL       | Glutamine Synthetase, an enzyme expressed in astrocytes for glutamate recycling |\n",
            "| CD44       | Cluster of Differentiation 44, a cell surface glycoprotein expressed in astrocytes |\n",
            "| EAAT1      | Excitatory Amino Acid Transporter 1, a glutamate transporter predominantly in astrocytes |\n",
            "| GLAST      | Glutamate Aspartate Transporter, another glutamate transporter found in astrocytes |\n",
            "| PTPRZ1     | Protein Tyrosine Phosphatase Receptor Type Z1, a marker for astrocyte subpopulations |\n",
            "| SLC1A3     | Solute Carrier Family 1 Member 3, a glutamate transporter predominantly in astrocytes |\n"
          ]
        }
      ],
      "source": [
        "#Step 1: Install the updated OpenAI package\n",
        "!pip install --upgrade openai\n",
        "\n",
        "# Step 2: Import and authenticate\n",
        "import openai\n",
        "import getpass\n",
        "\n",
        "api_key = getpass.getpass(\"Enter your OpenAI API key:\")\n",
        "test\n",
        "client = openai.OpenAI(api_key=api_key)\n",
        "\n",
        "# Step 3: Define the ChatGPT query function\n",
        "def get_cell_type_markers(cell_type, species=\"human\", tissue=\"brain\"):\n",
        "    prompt = (\n",
        "        f\"List 10 well-established gene markers for {cell_type} \"\n",
        "        f\"in the {tissue} of {species}. Format the response as a table \"\n",
        "        f\"with 'Gene Symbol' and 'Description'.\"\n",
        "    )\n",
        "\n",
        "    response = client.chat.completions.create(\n",
        "        model=\"gpt-3.5-turbo\",  # changed from \"gpt-4\"\n",
        "        messages=[{\"role\": \"user\", \"content\": prompt}],\n",
        "        temperature=0.2,\n",
        "    )\n",
        "\n",
        "\n",
        "    return response.choices[0].message.content\n",
        "\n",
        "# Step 4: Run the query\n",
        "cell_type_input = input(\"Enter a brain cell type (e.g., astrocytes): \")\n",
        "output = get_cell_type_markers(cell_type_input)\n",
        "\n",
        "print(\"\\nChatGPT-Predicted Markers:\\n\")\n",
        "print(output)\n"
      ]
    }
  ]
}